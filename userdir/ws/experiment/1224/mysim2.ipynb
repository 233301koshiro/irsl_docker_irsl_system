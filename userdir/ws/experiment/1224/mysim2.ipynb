{
 "cells": [
  {
   "cell_type": "code",
   "execution_count": 2,
   "id": "64309eb1-bcfd-4049-b4ae-bcac9ade04f6",
   "metadata": {},
   "outputs": [],
   "source": [
    "exec(open('/choreonoid_ws/install/share/irsl_choreonoid/sample/irsl_import.py').read())\n"
   ]
  },
  {
   "cell_type": "code",
   "execution_count": 3,
   "id": "eeead15b-e777-4232-99dc-23db4b2615d9",
   "metadata": {},
   "outputs": [],
   "source": [
    "## simulation 用のロボットモデル\n",
    "wd=ib.getOrAddWorld(name='World')\n",
    "s_itm=ib.loadRobotItem('graph_robot.body', world=wd)\n",
    "s_robot=RobotModel(s_itm)\n",
    "s_robot.robot.rootLink.setJointType(cbody.Link.FixedJoint)\n"
   ]
  },
  {
   "cell_type": "code",
   "execution_count": 4,
   "id": "3f4a35f8-c026-4f0f-b806-75d018a05e84",
   "metadata": {},
   "outputs": [
    {
     "data": {
      "text/plain": [
       "<cnoid.BodyPlugin.BodyItem object at 0x79f0bd09dab0>\n",
       "\n",
       "<irsl_choreonoid_ros.setup_cnoid.SetupCnoid object at 0x79f0a8cdf9d0>"
      ]
     },
     "execution_count": 4,
     "metadata": {},
     "output_type": "execute_result"
    }
   ],
   "source": [
    "ib.loadRobotItem(cutil.getShareDirectory() + '/model/misc/floor.body')\n",
    "SetupCnoid.setEnvironmentFromYaml('world.yaml', world='World')"
   ]
  },
  {
   "cell_type": "code",
   "execution_count": null,
   "id": "2e10bd05-241c-4c2a-bbe2-4e995f7a8b8b",
   "metadata": {},
   "outputs": [],
   "source": []
  },
  {
   "cell_type": "code",
   "execution_count": 5,
   "id": "30015a0c-5a45-45d0-b71f-dff31a1e18ba",
   "metadata": {},
   "outputs": [
    {
     "data": {
      "text/plain": [
       "<cnoid.BodyPlugin.BodyItem object at 0x79f0bd03bb30>"
      ]
     },
     "execution_count": 5,
     "metadata": {},
     "output_type": "execute_result"
    }
   ],
   "source": [
    "## 表示用(IK用)のロボットモデル\n",
    "md=ib.getOrAddWorld(name='Model')\n",
    "itm=ib.loadRobotItem('graph_robot.body', world=md)\n",
    "robot=RobotModel(itm)\n",
    "ib.loadRobotItem(cutil.getShareDirectory() + '/model/misc/floor.body')\n",
    "lst=robot.jointNames\n",
    "robot.registerEndEffector('arm', 'L0', tip_link_to_eef=coordinates(fv(0, 0, 2)), joint_list=lst[0:lst.index('L0')+1])"
   ]
  },
  {
   "cell_type": "code",
   "execution_count": null,
   "id": "2c92e472-473a-407c-b355-17268dfdf26d",
   "metadata": {},
   "outputs": [],
   "source": []
  },
  {
   "cell_type": "code",
   "execution_count": 6,
   "id": "e6218093-cf30-4ad2-90c4-70cdc5a92223",
   "metadata": {},
   "outputs": [
    {
     "data": {
      "text/plain": [
       "Wrap: <coordinates[0x6036c4b63d40] 0 0 9 / 0 0 0 1 > | <cnoid.Util.SgPosTransform object at 0x79f0bd0a0cf0>"
      ]
     },
     "execution_count": 6,
     "metadata": {},
     "output_type": "execute_result"
    }
   ],
   "source": [
    "### エンドエフェクタの表示\n",
    "di=DrawInterface()\n",
    "eef=mkshapes.makeCoords()\n",
    "#eef.newcoords(robot.link('L0').getCoords())\n",
    "eef.newcoords(robot.arm.endEffector)\n",
    "robot.assoc(eef, robot.link('L0'))\n",
    "di.addObject(eef)"
   ]
  },
  {
   "cell_type": "code",
   "execution_count": 53,
   "id": "8d6dcb98-7cf0-4c1d-86f9-289d47545a3f",
   "metadata": {},
   "outputs": [
    {
     "data": {
      "text/plain": [
       "True"
      ]
     },
     "execution_count": 53,
     "metadata": {},
     "output_type": "execute_result"
    }
   ],
   "source": [
    "robot.setDefaultPose()\n",
    "angle_map={'L8_bally':1.57,'L10_bally':-1.57,'L7_bally':-1.0,'L9_bally':1.2,}\n",
    "robot.setAngleMap(angle_map)"
   ]
  },
  {
   "cell_type": "code",
   "execution_count": 54,
   "id": "6f5a9eb9-8395-4a38-8b35-fd9a49f40a32",
   "metadata": {},
   "outputs": [
    {
     "data": {
      "text/plain": [
       "Wrap: <coordinates[0x6036ccb8cde0] 0 0 0 / 1 0 0 6.12323e-17 > | <cnoid.Util.SgPosTransform object at 0x79f0b66c5e30>\n",
       "\n",
       "Wrap: <coordinates[0x6036ccb8cde0] -2.7 2.5 2 / 1 0 0 6.12323e-17 > | <cnoid.Util.SgPosTransform object at 0x79f0b66c5e30>"
      ]
     },
     "execution_count": 54,
     "metadata": {},
     "output_type": "execute_result"
    }
   ],
   "source": [
    "### IK ターゲットの表示\n",
    "cds=mkshapes.makeCoords()\n",
    "cds.rotate(PI, coordinates.X)\n",
    "cds.locate(fv(-2.7, 2.5, 2), coordinates.wrt.world)\n",
    "#di.addObject(cds)"
   ]
  },
  {
   "cell_type": "code",
   "execution_count": 55,
   "id": "a611f374-ab46-4238-bb04-302a58592ed9",
   "metadata": {},
   "outputs": [
    {
     "data": {
      "text/plain": [
       "(True, 0)"
      ]
     },
     "execution_count": 55,
     "metadata": {},
     "output_type": "execute_result"
    }
   ],
   "source": [
    "### inverse-kinematics (すべて拘束された)\n",
    "robot.inverseKinematics(cds, addNoise=True)\n",
    "itm.setChecked(False) ##\n",
    "\n",
    "#itm.setChecked(True) ##\n",
    "\n"
   ]
  },
  {
   "cell_type": "code",
   "execution_count": 56,
   "id": "abbb0c2f-3882-450d-aea0-f3d39f8297c5",
   "metadata": {},
   "outputs": [],
   "source": [
    "## simulation\n",
    "from irsl_choreonoid.simulation_utils import SimulationEnvironment\n",
    "sim = SimulationEnvironment('graph_robot')"
   ]
  },
  {
   "cell_type": "code",
   "execution_count": 57,
   "id": "7c2188c4-590d-418c-a998-7a1e35d16541",
   "metadata": {},
   "outputs": [],
   "source": [
    "sim.stop()"
   ]
  },
  {
   "cell_type": "code",
   "execution_count": 58,
   "id": "f794d9b5-813c-423f-9257-ca6b2c216879",
   "metadata": {},
   "outputs": [],
   "source": [
    "## ちょっとましに動いているように見える\n",
    "sim.start(generatePDSettings=True, weightP=0.2, weightD=1.0, updateRotorInertia=True) ##\n",
    "\n",
    "sim.sendAngleVector(robot.angleVector(), 5.0)\n",
    "\n",
    "sim.run(10)"
   ]
  },
  {
   "cell_type": "code",
   "execution_count": 59,
   "id": "e822dc01-9dbb-45dd-af21-d3386c80e733",
   "metadata": {},
   "outputs": [
    {
     "data": {
      "text/plain": [
       "Wrap: <coordinates[0x6036ccb8cde0] -2.7 2.5 0 / 1 0 0 6.12323e-17 > | <cnoid.Util.SgPosTransform object at 0x79f0b66c5e30>"
      ]
     },
     "execution_count": 59,
     "metadata": {},
     "output_type": "execute_result"
    }
   ],
   "source": [
    "cds.locate(fv(0, 0, 2))\n",
    "#di.addObject(cds)"
   ]
  },
  {
   "cell_type": "code",
   "execution_count": 60,
   "id": "e50b1d85-4d62-42d8-ba6b-65627afa9710",
   "metadata": {},
   "outputs": [
    {
     "data": {
      "text/plain": [
       "True"
      ]
     },
     "execution_count": 60,
     "metadata": {},
     "output_type": "execute_result"
    }
   ],
   "source": [
    "angle_map={'L8_bally':1.57,'L10_bally':-1.57,'L7_bally':-1.8,'L9_bally':1.8,}\n",
    "robot.setAngleMap(angle_map)"
   ]
  },
  {
   "cell_type": "code",
   "execution_count": 61,
   "id": "76aa0c95-178d-4d24-a312-2eab2ba8f5cb",
   "metadata": {},
   "outputs": [
    {
     "data": {
      "text/plain": [
       "(True, 21)"
      ]
     },
     "execution_count": 61,
     "metadata": {},
     "output_type": "execute_result"
    }
   ],
   "source": [
    "### inverse-kinematics (すべて拘束された)\n",
    "robot.inverseKinematics(cds, addNoise=True)\n",
    "itm.setChecked(False) ##\n",
    "\n",
    "#itm.setChecked(True) ##\n",
    "sim.sendAngleVector(robot.angleVector(), 5.0)\n",
    "\n",
    "sim.run(10)"
   ]
  },
  {
   "cell_type": "code",
   "execution_count": 62,
   "id": "da86f5fb-8030-4e57-b78f-bd0d4ef5c106",
   "metadata": {},
   "outputs": [
    {
     "data": {
      "text/plain": [
       "Wrap: <coordinates[0x6036ccb8cde0] -2.7 2.5 2 / 1 0 0 6.12323e-17 > | <cnoid.Util.SgPosTransform object at 0x79f0b66c5e30>"
      ]
     },
     "execution_count": 62,
     "metadata": {},
     "output_type": "execute_result"
    }
   ],
   "source": [
    "cds.locate(fv(0, 0, -2))\n",
    "#di.addObject(cds)"
   ]
  },
  {
   "cell_type": "code",
   "execution_count": 63,
   "id": "c706cfb7-2059-4049-aa43-31bd35b43067",
   "metadata": {},
   "outputs": [
    {
     "data": {
      "text/plain": [
       "(True, 21)"
      ]
     },
     "execution_count": 63,
     "metadata": {},
     "output_type": "execute_result"
    }
   ],
   "source": [
    "### inverse-kinematics (すべて拘束された)\n",
    "robot.inverseKinematics(cds, addNoise=True)\n",
    "itm.setChecked(False) ##\n",
    "\n",
    "#itm.setChecked(True) ##\n",
    "sim.sendAngleVector(robot.angleVector(), 5.0)\n",
    "\n",
    "sim.run(10)"
   ]
  },
  {
   "cell_type": "code",
   "execution_count": null,
   "id": "0b997975-f7dc-4318-a4c0-f1659f13aed0",
   "metadata": {},
   "outputs": [],
   "source": []
  },
  {
   "cell_type": "code",
   "execution_count": null,
   "id": "b4691c10-5910-4ba6-abf4-34c88ae9dae4",
   "metadata": {},
   "outputs": [],
   "source": []
  },
  {
   "cell_type": "code",
   "execution_count": null,
   "id": "80257ceb-be42-4d9b-a386-6b7ce0f5ea36",
   "metadata": {},
   "outputs": [],
   "source": []
  },
  {
   "cell_type": "code",
   "execution_count": null,
   "id": "4c444d0a-04d7-449b-8a6c-e354de323456",
   "metadata": {},
   "outputs": [],
   "source": []
  },
  {
   "cell_type": "code",
   "execution_count": null,
   "id": "e10c6a2a-4ff2-4008-9498-6c8d9f9a8fd3",
   "metadata": {},
   "outputs": [],
   "source": []
  }
 ],
 "metadata": {
  "kernelspec": {
   "display_name": "Choreonoid",
   "language": "python",
   "name": "choreonoid"
  },
  "language_info": {
   "codemirror_mode": "",
   "file_extension": ".py",
   "mimetype": "text/x-python",
   "name": "python",
   "nbconvert_exporter": "",
   "pygments_lexer": "",
   "version": "3.7"
  }
 },
 "nbformat": 4,
 "nbformat_minor": 5
}
