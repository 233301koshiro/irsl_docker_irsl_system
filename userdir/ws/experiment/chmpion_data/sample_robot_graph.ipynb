{
 "cells": [
  {
   "cell_type": "code",
   "execution_count": 1,
   "id": "6ec4aa7a-f17f-403a-b9bf-169dbbe89de7",
   "metadata": {},
   "outputs": [],
   "source": [
    "# jupyter console --kernel=choreonoid\n",
    "import os\n",
    "os.environ[\"ROS_PACKAGE_PATH\"] = '/userdir/example-robot-data:' + os.environ[\"ROS_PACKAGE_PATH\"]\n",
    "from make_robot_graph import *\n",
    "import matplotlib.pyplot as plt\n",
    "import networkx as nx\n",
    "GG = RobotTree.read_dot('dataset/graph.dot')\n",
    "GG.add_dot_shapes()"
   ]
  },
  {
   "cell_type": "code",
   "execution_count": 2,
   "id": "6aa2f3fa-0f0f-4743-af2d-a99e6c68c650",
   "metadata": {},
   "outputs": [],
   "source": [
    "#新機能、ルートを他のノードに変更できる\n",
    "#GG.update_coords();\n",
    "#グラフの末端を調べてそこをルートにする\n",
    "#ルートにする際は座標は変わるのか？\n",
    "#GG.change_robot_root('L5')"
   ]
  },
  {
   "cell_type": "code",
   "execution_count": 3,
   "id": "a8afc2ab-9897-46a1-a8ef-5cb715a7dd19",
   "metadata": {},
   "outputs": [],
   "source": [
    "GG.write_dot(\"./graph_org.dot\")\n",
    "\n",
    "GG.update_coords(); GG.add_geometries_for_joints(); GG.add_dot_shapes()"
   ]
  },
  {
   "cell_type": "code",
   "execution_count": 4,
   "id": "3ed85763-f92e-4557-ac8e-035704e443d8",
   "metadata": {},
   "outputs": [],
   "source": [
    "GG.add_geometries_for_links(); GG.add_dot_shapes()"
   ]
  },
  {
   "cell_type": "code",
   "execution_count": 5,
   "id": "69be4c14-6d2a-4d9a-a5f2-fbfa29046c5d",
   "metadata": {},
   "outputs": [],
   "source": [
    "rtb = RobotTreeBuilder(); rtb.buildRobotFromTree(GG)"
   ]
  },
  {
   "cell_type": "code",
   "execution_count": 6,
   "id": "b883f5cb-4cf4-42f9-853f-988412cad895",
   "metadata": {},
   "outputs": [],
   "source": [
    "rtb = RobotTreeBuilder(); rtb.buildRobotFromTree(GG)\n",
    "GG.move_geometries_as_direct_children(); GG.add_dot_shapes()\n",
    "GG.write_dot(\"graph_other_expression.dot\")"
   ]
  },
  {
   "cell_type": "code",
   "execution_count": 9,
   "id": "b7dc1552-004b-45f9-966e-b6bacf27132c",
   "metadata": {},
   "outputs": [],
   "source": [
    "pos = nx.nx_agraph.graphviz_layout(GG, prog=\"dot\")\n",
    "\n",
    "# 描画\n",
    "nx.draw(GG, pos, with_labels=True, node_size=500, node_color=\"skyblue\", font_size=20, font_color=\"black\")\n",
    "plt.show()"
   ]
  },
  {
   "cell_type": "code",
   "execution_count": 10,
   "id": "afe99b7e-e53e-4f1d-bcff-2cfbe0ff1cd1",
   "metadata": {},
   "outputs": [
    {
     "data": {
      "text/plain": [
       "True"
      ]
     },
     "execution_count": 10,
     "metadata": {},
     "output_type": "execute_result"
    }
   ],
   "source": [
    "rtb.exportBody('./graph_robot.body')"
   ]
  },
  {
   "cell_type": "code",
   "execution_count": 17,
   "id": "b6348294-1b83-4f17-8007-57d76e446f18",
   "metadata": {},
   "outputs": [
    {
     "data": {
      "text/plain": [
       "Edge from Root to G_Root\n",
       "\n",
       "Edge from G_Root to 0\n",
       "\n",
       "Edge from 0 to (188, 132)\n",
       "\n",
       "Edge from 0 to 1\n",
       "\n",
       "Edge from 1 to 2\n",
       "\n",
       "Edge from 2 to 3\n",
       "\n",
       "Edge from 3 to 4\n",
       "\n",
       "Edge from 4 to 5\n",
       "\n",
       "Edge from 5 to 6\n"
      ]
     },
     "execution_count": 17,
     "metadata": {},
     "output_type": "execute_result"
    }
   ],
   "source": [
    "def print_edges(graph):\n",
    "    # エッジとその属性を取得\n",
    "    edges = graph.edges(data=True)\n",
    "    \n",
    "    for edge in edges:\n",
    "        source, target, attrs = edge\n",
    "        print(f\"Edge from {source} to {target}\")\n",
    "        \n",
    "        # 属性がある場合に出力\n",
    "        if attrs:\n",
    "            print(f\"  Attributes: {attrs}\")\n",
    "        print()  # 空行で見やすくする\n",
    "\n",
    "\n",
    "# グラフを読み込む\n",
    "G = nx.nx_pydot.read_dot('dataset/graph.dot')\n",
    "\n",
    "# エッジ一覧を出力\n",
    "print_edges(G)"
   ]
  },
  {
   "cell_type": "code",
   "execution_count": 3,
   "id": "e964aad0-59de-4f17-beac-9967a67054db",
   "metadata": {},
   "outputs": [],
   "source": [
    "'''\n",
    "#正規ルート、上のセルが自分が作ったやつ\n",
    "GG=RobotTree.generate_from_list(aa)\n",
    "GG.add_dot_shapes()\n",
    "\n",
    "#dotはグラフを保存するための拡張子\n",
    "write_dot(GG, \"/tmp/graph_org.dot\")\n",
    "\n",
    "#座標を更新する\n",
    "GG.update_coords() \n",
    "'''"
   ]
  },
  {
   "cell_type": "code",
   "execution_count": 6,
   "id": "b537db8d-d498-448e-bb56-2083140bb2c6",
   "metadata": {
    "scrolled": true
   },
   "outputs": [],
   "source": [
    "'''\n",
    "for node, attrs in GG.nodes(data=True):\n",
    "    print(f\"Node {node}:\")\n",
    "    for attr, value in attrs.items():\n",
    "        print(f\"  {attr}: {value}\")\n",
    "'''"
   ]
  },
  {
   "cell_type": "code",
   "execution_count": 8,
   "id": "ec585f9d-012c-4dda-b585-c8173f54c136",
   "metadata": {},
   "outputs": [
    {
     "ename": "Error",
     "evalue": "001",
     "output_type": "error",
     "traceback": [
      "Traceback (most recent call last):\n  File \"/usr/lib/python3.8/code.py\", line 90, in runcode\n    exec(code, self.locals)\n  File \"<console>\", line 1, in <module>\n  File \"<console>\", line 11, in draw_graph_with_hierarchy\nAttributeError: 'str' object has no attribute 'get'\n"
     ]
    }
   ],
   "source": [
    "#自分が書いたグラフを可視化する関数\n",
    "import networkx as nx\n",
    "import matplotlib.pyplot as plt\n",
    "G=nx.nx_pydot.read_dot('dataset/graph.dot')\n",
    "def draw_graph_with_hierarchy(graph):\n",
    "    # 描画のためのノードの位置を設定\n",
    "    pos = nx.spring_layout(graph)\n",
    "    \n",
    "    # ノードを描画\n",
    "    for node, attrs in graph.nodes(data=True):\n",
    "        params = attrs.get('params', {})\n",
    "        shape = attrs.get('shape', 'circle')\n",
    "        \n",
    "        # 色と形状を params や type に応じて設定\n",
    "        color = params.get('geometry', {}).get('args', {}).get('color', [0, 0, 0])  # デフォルトは黒\n",
    "        color = tuple(color)  # matplotlib 用にタプルに変換\n",
    "        \n",
    "        # ノードの形を設定\n",
    "        if shape == 'box':\n",
    "            node_shape = 's'  # 四角\n",
    "        elif shape == 'diamond':\n",
    "            node_shape = 'D'  # ダイヤモンド\n",
    "        elif shape == 'cylinder':\n",
    "            node_shape = 'o'  # 円\n",
    "        else:\n",
    "            node_shape = 'o'  # デフォルト円\n",
    "        \n",
    "        # ノードの描画\n",
    "        nx.draw_networkx_nodes(graph, pos,\n",
    "                               nodelist=[node],\n",
    "                               node_color=[color],\n",
    "                               node_shape=node_shape,\n",
    "                               node_size=500)\n",
    "    \n",
    "    # エッジを描画\n",
    "    nx.draw_networkx_edges(graph, pos, width=1.0, alpha=0.5)\n",
    "    \n",
    "    # ノードラベルを設定（params の 'node' 属性を表示）\n",
    "    labels = {node: attrs['params'].get('node', node) for node, attrs in graph.nodes(data=True)}\n",
    "    nx.draw_networkx_labels(graph, pos, labels, font_size=10,font_color='red')\n",
    "    \n",
    "    plt.show()\n",
    "\n",
    "\n",
    "# GGのグラフを変換して生成されたNGグラフを使用\n",
    "draw_graph_with_hierarchy(G)"
   ]
  },
  {
   "cell_type": "code",
   "execution_count": null,
   "id": "9af81259-655a-4424-a072-b953dd50bd21",
   "metadata": {},
   "outputs": [],
   "source": []
  },
  {
   "cell_type": "code",
   "execution_count": null,
   "id": "37dfa456-1696-4d5b-9b9e-57a133925b0d",
   "metadata": {},
   "outputs": [],
   "source": []
  }
 ],
 "metadata": {
  "kernelspec": {
   "display_name": "Choreonoid",
   "language": "python",
   "name": "choreonoid"
  },
  "language_info": {
   "codemirror_mode": "",
   "file_extension": ".py",
   "mimetype": "text/x-python",
   "name": "python",
   "nbconvert_exporter": "",
   "pygments_lexer": "",
   "version": "3.7"
  }
 },
 "nbformat": 4,
 "nbformat_minor": 5
}
