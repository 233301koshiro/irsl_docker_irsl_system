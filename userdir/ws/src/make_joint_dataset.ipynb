{
 "cells": [
  {
   "cell_type": "code",
   "execution_count": 1,
   "id": "aa9cd610-8dda-46ff-94b3-979cbd659444",
   "metadata": {},
   "outputs": [],
   "source": [
    "exec(open('make_dataset.py').read())"
   ]
  },
  {
   "cell_type": "code",
   "execution_count": 2,
   "id": "e7909d37-3712-4d8e-9a89-d3f4ac0098e2",
   "metadata": {
    "scrolled": true
   },
   "outputs": [
    {
     "data": {
      "text/plain": [
       "絶対パス: /dataset/joint_dataset"
      ]
     },
     "execution_count": 2,
     "metadata": {},
     "output_type": "execute_result"
    },
    {
     "ename": "Error",
     "evalue": "001",
     "output_type": "error",
     "traceback": [
      "TypeError: <EMPTY MESSAGE>\n\nAt:\n  /choreonoid_ws/install/lib/python3/dist-packages/irsl_choreonoid/robot_util.py(926): __init__\n  <string>(231): __init__\n  <string>(453): make_dataset\n  <input>(1): <module>\n  <string>(2): <module>\n\n"
     ]
    }
   ],
   "source": [
    "make_dataset()"
   ]
  },
  {
   "cell_type": "code",
   "execution_count": 3,
   "id": "6dc27b4f-77cf-4ec7-b767-e836f4cc24d7",
   "metadata": {},
   "outputs": [
    {
     "data": {
      "text/plain": [
       "絶対パス: /userdir/dataset/joint_dataset_test5\n",
       "ファイルまたはディレクトリが存在します dataset/joint_dataset_test5/image\n",
       "aaaaaaaaaaaaaaaaa\n",
       "example-robot-data/robots/a1_description/urdf/a1.urdf [('fl', 'FL_foot', None), ('fr', 'FR_foot', None), ('rl', 'RL_foot', None), ('rr', 'RR_foot', None)]\n",
       "---- パス確認 ----\n",
       "URDFパス: example-robot-data/robots/a1_description/urdf/a1.urdf\n",
       "✅ 存在します: example-robot-data/robots/a1_description/urdf/a1.urdf"
      ]
     },
     "execution_count": 3,
     "metadata": {},
     "output_type": "execute_result"
    },
    {
     "ename": "Error",
     "evalue": "001",
     "output_type": "error",
     "traceback": [
      "TypeError: <EMPTY MESSAGE>\n\nAt:\n  /choreonoid_ws/install/lib/python3/dist-packages/irsl_choreonoid/robot_util.py(926): __init__\n  <string>(230): __init__\n  <string>(617): make_dataset_test5\n  <input>(1): <module>\n  <string>(2): <module>\n\n"
     ]
    }
   ],
   "source": [
    "make_dataset_test5()"
   ]
  },
  {
   "cell_type": "code",
   "execution_count": 121,
   "id": "782a14ab-cd65-4c69-a927-afcd7a23c4bd",
   "metadata": {},
   "outputs": [],
   "source": [
    "exec(open('gen_csv.py').read())"
   ]
  },
  {
   "cell_type": "code",
   "execution_count": 122,
   "id": "b579ade3-494f-48f3-be27-5e59c694816f",
   "metadata": {},
   "outputs": [],
   "source": [
    "gen_csv()"
   ]
  }
 ],
 "metadata": {
  "kernelspec": {
   "display_name": "Choreonoid",
   "language": "python",
   "name": "choreonoid"
  },
  "language_info": {
   "codemirror_mode": "",
   "file_extension": ".py",
   "mimetype": "text/x-python",
   "name": "python",
   "nbconvert_exporter": "",
   "pygments_lexer": "ipython3",
   "version": "3.7"
  }
 },
 "nbformat": 4,
 "nbformat_minor": 5
}
